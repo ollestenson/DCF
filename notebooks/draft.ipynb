{
 "cells": [
  {
   "cell_type": "code",
   "execution_count": 1,
   "id": "386dadbf-055b-4211-88a8-106ad48a3988",
   "metadata": {},
   "outputs": [],
   "source": [
    "import pandas as pd\n",
    "import numpy as np\n",
    "import yfinance as yf\n",
    "\n",
    "TICKERS = ['BALD-B.ST','SAGA-B.ST', 'CORE-B.ST', 'SBB-B.ST']"
   ]
  },
  {
   "attachments": {},
   "cell_type": "markdown",
   "id": "e5d64304-deb5-46ad-83ff-805abac5ad8e",
   "metadata": {},
   "source": [
    "Extract the financial data from these tickers using yfinance. We want the free cash flow in a pd table"
   ]
  },
  {
   "cell_type": "code",
   "execution_count": 35,
   "id": "650275fb-ed0a-4e9c-85a1-f677108720f5",
   "metadata": {},
   "outputs": [
    {
     "data": {
      "text/html": [
       "<div>\n",
       "<style scoped>\n",
       "    .dataframe tbody tr th:only-of-type {\n",
       "        vertical-align: middle;\n",
       "    }\n",
       "\n",
       "    .dataframe tbody tr th {\n",
       "        vertical-align: top;\n",
       "    }\n",
       "\n",
       "    .dataframe thead th {\n",
       "        text-align: right;\n",
       "    }\n",
       "</style>\n",
       "<table border=\"1\" class=\"dataframe\">\n",
       "  <thead>\n",
       "    <tr style=\"text-align: right;\">\n",
       "      <th></th>\n",
       "      <th></th>\n",
       "      <th>fcf</th>\n",
       "    </tr>\n",
       "    <tr>\n",
       "      <th>ticker</th>\n",
       "      <th>date</th>\n",
       "      <th></th>\n",
       "    </tr>\n",
       "  </thead>\n",
       "  <tbody>\n",
       "    <tr>\n",
       "      <th rowspan=\"4\" valign=\"top\">BALD-B.ST</th>\n",
       "      <th>2024-12-31</th>\n",
       "      <td>4.684000e+09</td>\n",
       "    </tr>\n",
       "    <tr>\n",
       "      <th>2023-12-31</th>\n",
       "      <td>4.670000e+09</td>\n",
       "    </tr>\n",
       "    <tr>\n",
       "      <th>2022-12-31</th>\n",
       "      <td>4.912000e+09</td>\n",
       "    </tr>\n",
       "    <tr>\n",
       "      <th>2021-12-31</th>\n",
       "      <td>1.456000e+09</td>\n",
       "    </tr>\n",
       "    <tr>\n",
       "      <th>SAGA-B.ST</th>\n",
       "      <th>2024-12-31</th>\n",
       "      <td>3.300000e+09</td>\n",
       "    </tr>\n",
       "  </tbody>\n",
       "</table>\n",
       "</div>"
      ],
      "text/plain": [
       "                               fcf\n",
       "ticker    date                    \n",
       "BALD-B.ST 2024-12-31  4.684000e+09\n",
       "          2023-12-31  4.670000e+09\n",
       "          2022-12-31  4.912000e+09\n",
       "          2021-12-31  1.456000e+09\n",
       "SAGA-B.ST 2024-12-31  3.300000e+09"
      ]
     },
     "execution_count": 35,
     "metadata": {},
     "output_type": "execute_result"
    }
   ],
   "source": [
    "data = []\n",
    "for ticker in TICKERS:\n",
    "    stock = yf.Ticker(ticker)\n",
    "    cash_flow = stock.cashflow.iloc[:,:4]\n",
    "    fcf = cash_flow.loc['Free Cash Flow']\n",
    "    fcf.head()\n",
    "    for date, value in fcf.items():\n",
    "        data.append({'ticker':ticker,'date':date,'fcf':value})\n",
    "df = pd.DataFrame(data)\n",
    "df = df.set_index(['ticker','date'])\n",
    "df.head()\n"
   ]
  },
  {
   "cell_type": "code",
   "execution_count": 33,
   "id": "7b844e91-ff80-4bfa-acf0-dd0239c8ad0b",
   "metadata": {},
   "outputs": [
    {
     "data": {
      "text/plain": [
       "np.float64(3305000000.0)"
      ]
     },
     "execution_count": 33,
     "metadata": {},
     "output_type": "execute_result"
    }
   ],
   "source": [
    "value = df.loc[('SAGA-B.ST', '2023-12-31'), 'fcf']\n",
    "value"
   ]
  },
  {
   "cell_type": "code",
   "execution_count": null,
   "id": "74072e7e-9ea9-460d-8c9b-3b05f9d4816b",
   "metadata": {},
   "outputs": [],
   "source": []
  }
 ],
 "metadata": {
  "kernelspec": {
   "display_name": "Python [conda env:base] *",
   "language": "python",
   "name": "conda-base-py"
  },
  "language_info": {
   "codemirror_mode": {
    "name": "ipython",
    "version": 3
   },
   "file_extension": ".py",
   "mimetype": "text/x-python",
   "name": "python",
   "nbconvert_exporter": "python",
   "pygments_lexer": "ipython3",
   "version": "3.13.5"
  }
 },
 "nbformat": 4,
 "nbformat_minor": 5
}
